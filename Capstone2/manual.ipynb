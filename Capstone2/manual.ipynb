{
 "cells": [
  {
   "cell_type": "code",
   "execution_count": 13,
   "metadata": {},
   "outputs": [],
   "source": [
    "import warnings\n",
    "\n",
    "warnings.filterwarnings(\"ignore\")"
   ]
  },
  {
   "cell_type": "code",
   "execution_count": 14,
   "metadata": {},
   "outputs": [
    {
     "name": "stderr",
     "output_type": "stream",
     "text": [
      "WARNING:absl:Compiled the loaded model, but the compiled metrics have yet to be built. `model.compile_metrics` will be empty until you train or evaluate the model.\n",
      "WARNING:absl:Compiled the loaded model, but the compiled metrics have yet to be built. `model.compile_metrics` will be empty until you train or evaluate the model.\n",
      "WARNING:absl:Compiled the loaded model, but the compiled metrics have yet to be built. `model.compile_metrics` will be empty until you train or evaluate the model.\n",
      "WARNING:absl:Compiled the loaded model, but the compiled metrics have yet to be built. `model.compile_metrics` will be empty until you train or evaluate the model.\n",
      "WARNING:absl:Compiled the loaded model, but the compiled metrics have yet to be built. `model.compile_metrics` will be empty until you train or evaluate the model.\n"
     ]
    },
    {
     "name": "stdout",
     "output_type": "stream",
     "text": [
      "\u001b[1m1/1\u001b[0m \u001b[32m━━━━━━━━━━━━━━━━━━━━\u001b[0m\u001b[37m\u001b[0m \u001b[1m0s\u001b[0m 102ms/step\n",
      "predictions [[9.44647807e-26 7.06170930e-34 1.05304474e-22 1.00000000e+00]]\n",
      "predicted_labels [3]\n",
      "predicted_labels_names ['strawberry']\n",
      "\u001b[1m1/1\u001b[0m \u001b[32m━━━━━━━━━━━━━━━━━━━━\u001b[0m\u001b[37m\u001b[0m \u001b[1m0s\u001b[0m 85ms/step\n",
      "Strawberry Ripeness Prediction: Ripe Strawberry\n"
     ]
    }
   ],
   "source": [
    "import tensorflow as tf\n",
    "from tensorflow.keras.models import load_model\n",
    "import numpy as np\n",
    "from tensorflow.keras.utils import load_img, img_to_array\n",
    "\n",
    "# Load the individual models\n",
    "model_fruit = load_model(\"models/fruit_classification_model_4buah.h5\")\n",
    "model_dragonfruit = load_model(\"models/DragonFruit_ripeness_model.h5\")\n",
    "model_durian = load_model(\"models/Durian_ripeness_model.h5\")\n",
    "model_grape = load_model(\"models/Grape_ripeness_model.h5\")\n",
    "model_strawberry = load_model(\"models/Strawberry_ripeness_model.h5\")\n",
    "\n",
    "\n",
    "# Create a function to load and preprocess the image from a path\n",
    "def load_and_preprocess_image(image_path, target_size=(128, 128)):\n",
    "    img = load_img(image_path, target_size=target_size)  # Load image and resize\n",
    "    img_array = img_to_array(img)  # Convert image to numpy array\n",
    "    img_array = np.expand_dims(img_array, axis=0)  # Add batch dimension\n",
    "    img_array = img_array / 255.0  # Normalize image to [0, 1]\n",
    "    return img_array\n",
    "\n",
    "\n",
    "# Example image path\n",
    "image_path = \"images/straw.jpg\"  # Replace with the actual image path\n",
    "\n",
    "# Load and preprocess the image\n",
    "input_image = load_and_preprocess_image(image_path)\n",
    "\n",
    "# Predict the labels using the trained model\n",
    "predictions = model_fruit.predict(input_image)\n",
    "\n",
    "print(\"predictions\", predictions)\n",
    "\n",
    "# Get the class labels (fruit names) based on the predicted class indices\n",
    "predicted_labels = np.argmax(predictions, axis=1)\n",
    "\n",
    "print(\"predicted_labels\", predicted_labels)\n",
    "\n",
    "# Map the class indices back to the fruit names\n",
    "fruit_classes = [\"dragonfruit\", \"durian\", \"grape\", \"strawberry\"]\n",
    "predicted_labels_names = [fruit_classes[label] for label in predicted_labels]\n",
    "\n",
    "print(\"predicted_labels_names\", predicted_labels_names)\n",
    "\n",
    "if predicted_labels_names[0] == \"dragonfruit\":\n",
    "    prediction = model_dragonfruit.predict(input_image)\n",
    "    predicted_label = (prediction > 0.5).astype(int)\n",
    "    if predicted_label == 1:\n",
    "        print(\"Dragon Fruit Ripeness Prediction: Ripe Dragon Fruit\")\n",
    "    else:\n",
    "        print(\"Dragon Fruit Ripeness Prediction: Unripe Dragon Fruit\")\n",
    "\n",
    "if predicted_labels_names[0] == \"durian\":\n",
    "    prediction = model_durian.predict(input_image)\n",
    "    predicted_label = (prediction > 0.5).astype(int)\n",
    "    if predicted_label == 1:\n",
    "        print(\"Durian Ripeness Prediction: Ripe Durian\")\n",
    "    else:\n",
    "        print(\"Durian Ripeness Prediction: Unripe Durian\")\n",
    "\n",
    "if predicted_labels_names[0] == \"grape\":\n",
    "    prediction = model_grape.predict(input_image)\n",
    "    predicted_label = (prediction > 0.5).astype(int)\n",
    "    if predicted_label == 1:\n",
    "        print(\"Grape Ripeness Prediction: Ripe Grape\")\n",
    "    else:\n",
    "        print(\"Grape Ripeness Prediction: Unripe Grape\")\n",
    "\n",
    "if predicted_labels_names[0] == \"strawberry\":\n",
    "    prediction = model_strawberry.predict(input_image)\n",
    "    predicted_label = (prediction > 0.5).astype(int)\n",
    "    if predicted_label == 1:\n",
    "        print(\"Strawberry Ripeness Prediction: Ripe Strawberry\")\n",
    "    else:\n",
    "        print(\"Strawberry Ripeness Prediction: Unripe Strawberry\")"
   ]
  }
 ],
 "metadata": {
  "kernelspec": {
   "display_name": "Python 3",
   "language": "python",
   "name": "python3"
  },
  "language_info": {
   "codemirror_mode": {
    "name": "ipython",
    "version": 3
   },
   "file_extension": ".py",
   "mimetype": "text/x-python",
   "name": "python",
   "nbconvert_exporter": "python",
   "pygments_lexer": "ipython3",
   "version": "3.12.0"
  }
 },
 "nbformat": 4,
 "nbformat_minor": 2
}
